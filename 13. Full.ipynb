{
 "cells": [
  {
   "cell_type": "code",
   "execution_count": 2,
   "id": "122e89b9",
   "metadata": {},
   "outputs": [
    {
     "name": "stderr",
     "output_type": "stream",
     "text": [
      "/Library/Frameworks/Python.framework/Versions/3.13/lib/python3.13/site-packages/tqdm/auto.py:21: TqdmWarning: IProgress not found. Please update jupyter and ipywidgets. See https://ipywidgets.readthedocs.io/en/stable/user_install.html\n",
      "  from .autonotebook import tqdm as notebook_tqdm\n"
     ]
    }
   ],
   "source": [
    "import torch\n",
    "import torch.nn as nn\n",
    "import torch.functional as F \n",
    "import math \n",
    "import numpy as np\n",
    "from transformers import AutoTokenizer"
   ]
  },
  {
   "cell_type": "markdown",
   "id": "1eae7cd1",
   "metadata": {},
   "source": [
    "## We are creating the Full Transformer from Scratch"
   ]
  },
  {
   "cell_type": "markdown",
   "id": "ab3427aa",
   "metadata": {},
   "source": [
    "- Step 1 : 🚧 Phase 1: Raw Sentences to Input Embeddings\n",
    "\n",
    "Convert a list of sentences into token embeddings + positional encodings\n",
    "\n",
    "→ Final shape: [batch_size, seq_len, embedding_dim]\n"
   ]
  },
  {
   "cell_type": "markdown",
   "id": "e6b7c4c6",
   "metadata": {},
   "source": []
  },
  {
   "cell_type": "code",
   "execution_count": null,
   "id": "85fa6898",
   "metadata": {},
   "outputs": [],
   "source": [
    "    input_text = [\n",
    "        \"hello world\", \"My name is vivek\", \"I am a billionaire\", \"I am 29 years old\"\n",
    "    ]\n",
    "tokenizer = AutoTokenizer.from_pretrained(\"bert-base-cased\")\n",
    "embeddings = tokenizer()"
   ]
  }
 ],
 "metadata": {
  "kernelspec": {
   "display_name": "Python 3",
   "language": "python",
   "name": "python3"
  },
  "language_info": {
   "codemirror_mode": {
    "name": "ipython",
    "version": 3
   },
   "file_extension": ".py",
   "mimetype": "text/x-python",
   "name": "python",
   "nbconvert_exporter": "python",
   "pygments_lexer": "ipython3",
   "version": "3.13.5"
  }
 },
 "nbformat": 4,
 "nbformat_minor": 5
}
