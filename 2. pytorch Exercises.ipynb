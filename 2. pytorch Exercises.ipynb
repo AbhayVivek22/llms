{
 "cells": [
  {
   "cell_type": "code",
   "execution_count": 1,
   "id": "04bff01a",
   "metadata": {},
   "outputs": [],
   "source": [
    "import torch\n",
    "import torch.functional as F"
   ]
  },
  {
   "cell_type": "markdown",
   "id": "c6ee8f70",
   "metadata": {},
   "source": [
    "## 🔹 1. Shape Manipulation & Views"
   ]
  },
  {
   "cell_type": "markdown",
   "id": "ad42cf43",
   "metadata": {},
   "source": [
    "### 1. Reshape a flat tensor"
   ]
  },
  {
   "cell_type": "code",
   "execution_count": null,
   "id": "1dc9c01d",
   "metadata": {},
   "outputs": [
    {
     "data": {
      "text/plain": [
       "torch.Size([3, 4])"
      ]
     },
     "execution_count": 3,
     "metadata": {},
     "output_type": "execute_result"
    }
   ],
   "source": [
    "x = torch.arange(12)\n",
    "# Turn into shape (3, 4)\n",
    "\n",
    "x = x.reshape(3,4)\n",
    "x.shape"
   ]
  },
  {
   "cell_type": "markdown",
   "id": "35009a17",
   "metadata": {},
   "source": [
    "### 2. Flatten a 2D tensor"
   ]
  },
  {
   "cell_type": "code",
   "execution_count": 4,
   "id": "b3e81dce",
   "metadata": {},
   "outputs": [
    {
     "data": {
      "text/plain": [
       "tensor([1, 2, 3, 4])"
      ]
     },
     "execution_count": 4,
     "metadata": {},
     "output_type": "execute_result"
    }
   ],
   "source": [
    "x = torch.tensor([[1, 2], [3, 4]])\n",
    "x = x.reshape(4,)\n",
    "x"
   ]
  },
  {
   "cell_type": "markdown",
   "id": "1c0aa243",
   "metadata": {},
   "source": [
    "### 3. Add a new batch dimension"
   ]
  },
  {
   "cell_type": "code",
   "execution_count": 6,
   "id": "73f0eb42",
   "metadata": {},
   "outputs": [
    {
     "data": {
      "text/plain": [
       "torch.Size([1, 3])"
      ]
     },
     "execution_count": 6,
     "metadata": {},
     "output_type": "execute_result"
    }
   ],
   "source": [
    "x = torch.tensor([1, 2, 3])\n",
    "# Turn into shape (1, 3)\n",
    "\n",
    "x = x.unsqueeze(0)\n",
    "x.shape"
   ]
  },
  {
   "cell_type": "markdown",
   "id": "d0607f86",
   "metadata": {},
   "source": [
    "### 4. Permute image tensor"
   ]
  },
  {
   "cell_type": "code",
   "execution_count": 7,
   "id": "6bb170e9",
   "metadata": {},
   "outputs": [
    {
     "data": {
      "text/plain": [
       "torch.Size([3, 224, 224])"
      ]
     },
     "execution_count": 7,
     "metadata": {},
     "output_type": "execute_result"
    }
   ],
   "source": [
    "x = torch.rand(224, 224, 3)\n",
    "# Turn into (3, 224, 224)\n",
    "\n",
    "x = x.permute(2,0,1)\n",
    "x.shape"
   ]
  },
  {
   "cell_type": "markdown",
   "id": "d45373a1",
   "metadata": {},
   "source": [
    "### 5. Transpose matrix"
   ]
  },
  {
   "cell_type": "code",
   "execution_count": 8,
   "id": "00cea670",
   "metadata": {},
   "outputs": [
    {
     "data": {
      "text/plain": [
       "tensor([[1, 4],\n",
       "        [2, 5],\n",
       "        [3, 6]])"
      ]
     },
     "execution_count": 8,
     "metadata": {},
     "output_type": "execute_result"
    }
   ],
   "source": [
    "x = torch.tensor([[1, 2, 3], [4, 5, 6]])\n",
    "# Transpose rows and columns\n",
    "\n",
    "x = x.T\n",
    "x"
   ]
  },
  {
   "cell_type": "markdown",
   "id": "41f30bf9",
   "metadata": {},
   "source": [
    "## 🔹 2. Slicing & Indexing"
   ]
  },
  {
   "cell_type": "markdown",
   "id": "09deb0a6",
   "metadata": {},
   "source": [
    "### 1. Select the first row from a tensor"
   ]
  },
  {
   "cell_type": "code",
   "execution_count": 11,
   "id": "f6b0ea1e",
   "metadata": {},
   "outputs": [
    {
     "name": "stdout",
     "output_type": "stream",
     "text": [
      "tensor([[ 0,  1,  2,  3],\n",
      "        [ 4,  5,  6,  7],\n",
      "        [ 8,  9, 10, 11]])\n",
      "\n"
     ]
    },
    {
     "data": {
      "text/plain": [
       "tensor([0, 1, 2, 3])"
      ]
     },
     "execution_count": 11,
     "metadata": {},
     "output_type": "execute_result"
    }
   ],
   "source": [
    "x = torch.arange(12).reshape(3, 4)\n",
    "# Get first row → shape (4,)\n",
    "print(x)\n",
    "print(\"\")\n",
    "x[0]"
   ]
  },
  {
   "cell_type": "markdown",
   "id": "0a78a2b7",
   "metadata": {},
   "source": [
    "### 2. Get the 2nd column from a 2D tensor"
   ]
  },
  {
   "cell_type": "code",
   "execution_count": 12,
   "id": "e4a00435",
   "metadata": {},
   "outputs": [
    {
     "data": {
      "text/plain": [
       "tensor([1, 5, 9])"
      ]
     },
     "execution_count": 12,
     "metadata": {},
     "output_type": "execute_result"
    }
   ],
   "source": [
    "x[:, 1]"
   ]
  },
  {
   "cell_type": "markdown",
   "id": "41f1d88b",
   "metadata": {},
   "source": [
    "### 3. Reverse the rows of a tensor"
   ]
  },
  {
   "cell_type": "code",
   "execution_count": 19,
   "id": "be3aac78",
   "metadata": {},
   "outputs": [
    {
     "data": {
      "text/plain": [
       "tensor([[ 3,  2,  1,  0],\n",
       "        [ 7,  6,  5,  4],\n",
       "        [11, 10,  9,  8]])"
      ]
     },
     "execution_count": 19,
     "metadata": {},
     "output_type": "execute_result"
    }
   ],
   "source": [
    "y = torch.flip(x, dims=[1])\n",
    "y"
   ]
  },
  {
   "cell_type": "markdown",
   "id": "241c4843",
   "metadata": {},
   "source": [
    "### 4. Get every 2nd element of a 1D tensor"
   ]
  },
  {
   "cell_type": "code",
   "execution_count": 23,
   "id": "3c0076c8",
   "metadata": {},
   "outputs": [
    {
     "name": "stdout",
     "output_type": "stream",
     "text": [
      "tensor([ 0,  1,  2,  3,  4,  5,  6,  7,  8,  9, 10, 11])\n",
      "tensor([ 0,  2,  4,  6,  8, 10])\n"
     ]
    }
   ],
   "source": [
    "x = torch.arange(12)\n",
    "\n",
    "print(x)\n",
    "\n",
    "print(x[::2])"
   ]
  },
  {
   "cell_type": "code",
   "execution_count": 24,
   "id": "f196ec70",
   "metadata": {},
   "outputs": [],
   "source": [
    "# note - we can also do reverse arange like this\n",
    "x = torch.arange(12,1, -1)"
   ]
  },
  {
   "cell_type": "markdown",
   "id": "7b4df082",
   "metadata": {},
   "source": [
    "### 5. Replace all negative values with zero"
   ]
  },
  {
   "cell_type": "code",
   "execution_count": 25,
   "id": "ee81e7c7",
   "metadata": {},
   "outputs": [
    {
     "data": {
      "text/plain": [
       "tensor([0, 3, 0, 2])"
      ]
     },
     "execution_count": 25,
     "metadata": {},
     "output_type": "execute_result"
    }
   ],
   "source": [
    "x = torch.tensor([-1, 3, -5, 2])\n",
    "\n",
    "y = torch.clamp(x, min=0)\n",
    "y"
   ]
  },
  {
   "cell_type": "markdown",
   "id": "1edc3966",
   "metadata": {},
   "source": [
    "##  🔹 3. Broadcasting Logic\n",
    "🎯 Goal: Predict shapes and perform operations on different shapes"
   ]
  },
  {
   "cell_type": "markdown",
   "id": "fa1326f1",
   "metadata": {},
   "source": [
    "### 1. Add a (4, 1) tensor to a (1, 5) tensor → result?"
   ]
  },
  {
   "cell_type": "code",
   "execution_count": null,
   "id": "075d133f",
   "metadata": {},
   "outputs": [
    {
     "data": {
      "text/plain": [
       "tensor([[2, 3, 4, 5, 6],\n",
       "        [3, 4, 5, 6, 7],\n",
       "        [4, 5, 6, 7, 8],\n",
       "        [5, 6, 7, 8, 9]])"
      ]
     },
     "execution_count": 26,
     "metadata": {},
     "output_type": "execute_result"
    }
   ],
   "source": [
    "a = torch.tensor([\n",
    "    [1] , [2] , [3] , [4]\n",
    "])\n",
    "b = torch.tensor([1,2,3,4,5])\n",
    "\n",
    "a+b \n",
    "\n",
    "# note --- here both of them get broadcasted to each other\n",
    "# they get 4 rows and 5 cols"
   ]
  },
  {
   "cell_type": "markdown",
   "id": "5ccfc8a0",
   "metadata": {},
   "source": [
    "### 2. Multiply a tensor of shape (3, 1, 4) by (1, 5, 1)"
   ]
  },
  {
   "cell_type": "code",
   "execution_count": 28,
   "id": "8996d727",
   "metadata": {},
   "outputs": [
    {
     "data": {
      "text/plain": [
       "torch.Size([3, 5, 4])"
      ]
     },
     "execution_count": 28,
     "metadata": {},
     "output_type": "execute_result"
    }
   ],
   "source": [
    "# 3 rows -> each has 1row -> each has 4 elems\n",
    "a = torch.tensor([\n",
    "    [[1,2,3,4]],\n",
    "    [[2,3,4,5]],\n",
    "    [[4,5,6,7]]\n",
    "])\n",
    "\n",
    "# 1 rows -> has 5 rows -> each has 1 elems\n",
    "b = torch.tensor([[\n",
    "    [1],\n",
    "    [2],\n",
    "    [3],\n",
    "    [4],\n",
    "    [5]\n",
    "]])\n",
    "\n",
    "z = a * b\n",
    "z.shape"
   ]
  },
  {
   "cell_type": "markdown",
   "id": "9f2cd047",
   "metadata": {},
   "source": [
    "### 3. Broadcast and subtract a vector from each row"
   ]
  },
  {
   "cell_type": "code",
   "execution_count": 29,
   "id": "6c40affe",
   "metadata": {},
   "outputs": [
    {
     "data": {
      "text/plain": [
       "tensor([[0, 1, 2],\n",
       "        [3, 4, 5]])"
      ]
     },
     "execution_count": 29,
     "metadata": {},
     "output_type": "execute_result"
    }
   ],
   "source": [
    "x = torch.tensor([[1, 2, 3], [4, 5, 6]]) # it has shape 2,3\n",
    "v = torch.tensor([1, 1, 1]) # it has shape 3,\n",
    "\n",
    "x-v"
   ]
  },
  {
   "cell_type": "markdown",
   "id": "0063b152",
   "metadata": {},
   "source": [
    "## 🔹 4. Expand vs Repeat vs Repeat Interleave\n",
    "\n",
    "🎯 Goal: Understand when and how to stretch vs copy data"
   ]
  },
  {
   "cell_type": "markdown",
   "id": "df319292",
   "metadata": {},
   "source": [
    "### 1. Use .expand() to broadcast (3,1,1) into (3,4,2)"
   ]
  },
  {
   "cell_type": "code",
   "execution_count": 31,
   "id": "263715ca",
   "metadata": {},
   "outputs": [
    {
     "name": "stdout",
     "output_type": "stream",
     "text": [
      "torch.Size([3, 1, 1])\n",
      "torch.Size([3, 4, 2])\n"
     ]
    }
   ],
   "source": [
    "x = torch.rand(3,1,1)\n",
    "print(x.shape)\n",
    "x = x.expand(3,4,2)\n",
    "print(x.shape)\n"
   ]
  },
  {
   "cell_type": "markdown",
   "id": "0e0cf16e",
   "metadata": {},
   "source": [
    "### 2. Use .repeat() to tile a (2, 2) matrix into (4, 6)"
   ]
  },
  {
   "cell_type": "code",
   "execution_count": 32,
   "id": "ee8ae9db",
   "metadata": {},
   "outputs": [
    {
     "name": "stdout",
     "output_type": "stream",
     "text": [
      "torch.Size([2, 2])\n",
      "torch.Size([4, 6])\n"
     ]
    }
   ],
   "source": [
    "y = torch.rand(2,2)\n",
    "print(y.shape)\n",
    "\n",
    "y = y.repeat(2,3)\n",
    "print(y.shape)"
   ]
  },
  {
   "cell_type": "markdown",
   "id": "d0849792",
   "metadata": {},
   "source": [
    "### 3. Convert [1, 2, 3] to [1, 1, 2, 2, 3, 3]"
   ]
  },
  {
   "cell_type": "code",
   "execution_count": 33,
   "id": "00944da0",
   "metadata": {},
   "outputs": [
    {
     "data": {
      "text/plain": [
       "tensor([1, 1, 2, 2, 3, 3])"
      ]
     },
     "execution_count": 33,
     "metadata": {},
     "output_type": "execute_result"
    }
   ],
   "source": [
    "z = torch.tensor([1,2,3])\n",
    "z = z.repeat_interleave(2)\n",
    "z"
   ]
  },
  {
   "cell_type": "markdown",
   "id": "cc5ee111",
   "metadata": {},
   "source": [
    "### 4. Repeat [1, 2, 3] → [1, 2, 3, 1, 2, 3]"
   ]
  },
  {
   "cell_type": "code",
   "execution_count": 34,
   "id": "b3d221a4",
   "metadata": {},
   "outputs": [
    {
     "data": {
      "text/plain": [
       "tensor([1, 2, 3, 1, 2, 3])"
      ]
     },
     "execution_count": 34,
     "metadata": {},
     "output_type": "execute_result"
    }
   ],
   "source": [
    "z = torch.tensor([1,2,3])\n",
    "z = z.repeat(2)\n",
    "z"
   ]
  },
  {
   "cell_type": "code",
   "execution_count": null,
   "id": "946fa615",
   "metadata": {},
   "outputs": [],
   "source": []
  }
 ],
 "metadata": {
  "kernelspec": {
   "display_name": "Python 3",
   "language": "python",
   "name": "python3"
  },
  "language_info": {
   "codemirror_mode": {
    "name": "ipython",
    "version": 3
   },
   "file_extension": ".py",
   "mimetype": "text/x-python",
   "name": "python",
   "nbconvert_exporter": "python",
   "pygments_lexer": "ipython3",
   "version": "3.13.5"
  }
 },
 "nbformat": 4,
 "nbformat_minor": 5
}
